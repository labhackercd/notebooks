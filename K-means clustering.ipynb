{
 "cells": [
  {
   "cell_type": "code",
   "execution_count": 481,
   "metadata": {},
   "outputs": [],
   "source": [
    "from sklearn.feature_extraction.text import TfidfVectorizer, CountVectorizer\n",
    "from sklearn.cluster import KMeans\n",
    "from sklearn.metrics import adjusted_rand_score\n",
    "import requests\n",
    "from nltk.corpus import stopwords as nltk_stopwords\n",
    "from string import punctuation\n",
    "from kneed.knee_locator import KneeLocator\n",
    "from matplotlib import pyplot as plt\n",
    "import nltk\n",
    "import re\n",
    "\n",
    "\n",
    "# # Endereço da API dos comentários do wikilegis\n",
    "# BABEL_API_URL = 'https://babel.labhackercd.leg.br/api/v1/manifestations?manifestation_type__id=3'\n",
    "\n",
    "# # Pegando comentários da API do Babel\n",
    "# data = requests.get(BABEL_API_URL).json()['results']\n",
    "# for i in range(2, 11):\n",
    "#     data += requests.get(BABEL_API_URL + '&page=%s' % i).json()['results']\n",
    "\n",
    "# comments = [comment['content'] for comment in data]\n",
    "\n",
    "# Comentários do teste no Google Docs\n",
    "comments = ['O problema não me parece ser a conotação erótica ou sexual em si mesma, pois ela pode ter conexão com o produto (ex. camisinhas). O problema é se a linguagem promove a violência, a exploração ou discriminação da mulher, como dito mais à frente. Somente assim justificaria alguma penalidade.',\n",
    "            'Acho que deve ter um prazo mínimo! E se só suspenderem por 1 dia? Quem divulgou precisa realmente ser penalizado pra aprender que fez uma ❤! Acho justo que fiquem sem poder divulgar o produto por um bom tempo!',\n",
    "            'Concordo muito com essa medida!',\n",
    "            'Entendi no Inciso II que é pra suspender qualquer outra propaganda do produto, mas aí aqui no VI a propaganda em si que causa a infração é suspendida proporcionalmente ao tempo que foi originalmente transmitida? Porque não é suspendida por completo? Me parece que há margem para dubiedade quando se compara o II com o VI.',\n",
    "            'Quem seriam essas autoridades?',\n",
    "            'Senti falta no texto do projeto de referência a mídias sociais... e outros, como impressos, outdoor...',\n",
    "            'O mais correto não seria suspender a propaganda por completo?',\n",
    "            'A faixa de valores deve estar submetida a algum índice de reajuste anual para repor a inflação e mantê-lo proporcional.',\n",
    "            'Esse critério de multa é ruim. Pode ser muito para uns e irrelevante para outros. Talvez um critério atrelado ao valor investido na propaganda seja mais justo.',\n",
    "            '30 dias é muito tempo, podendo até chegar ao fim da campanha publicitária.',\n",
    "            'Ta aí o ex.... Quem é o infrator que vai receber a tal advertência? O publicitário? O dono da agência? O dono da empresa/sócios?',\n",
    "            'Por que só propagandas de produtos de consumo? Propagandas de serviços também podem ser misóginas.',\n",
    "            'Concordo com o intuito do artigo e gostaria de frisar mais ainda a necessidade de que haja EVIDÊNCIA da exploração, violência ou discriminação contra a mulher. É importante tomar cuidado com a liberdade que o governo tem de proibir ou não determinada manifestação de expressão, pois pode configurar censura! Espero que a lei seja bem clara sem margem para dubiedade a ser explorada por advogados.',\n",
    "            'Campanhas publicitárias? O que dizer dos video-clips de funk, por exemplo, que têm um apelo muito maior? Vai, malandra, vai!',\n",
    "            'Agora o governo vai decidir o que pode ou não ser publicado? Censura, burocracia...',\n",
    "            'Porque só feminina?',\n",
    "            'Acho importante explicitar o gênero feminino, pois hoje é esse gênero que sofre com esse tipo de propaganda',\n",
    "            'Deve proibir a discriminação independente do gênero.',\n",
    "            'Acho o texto muito confuso, mesmo para um projeto de lei... hahahaa Quem é o \"infrator\", citado tantas vezes? A empresa que contratar? A agência que preparar? O veículo que divulgar? Não fica nada claro isso. O problema, na minha avaliação, começa na primeira frase... \"as campanhas publicitárias ficam proibidas de exibir\"...??? Na verdade, o sujeito deveria vir claro aí já no início do projeto. Exemplo prático de texto de lei similar: https://gov-rj.jusbrasil.com.br/legislacao/535364538/lei-7835-18-rio-de-janeiro-rj',\n",
    "            'Muito restrito. Poderia ampliar para além de produtos de consumo.'\n",
    "           ]\n",
    "\n",
    "\n",
    "stopwords = nltk_stopwords.words('portuguese') + list(punctuation)"
   ]
  },
  {
   "cell_type": "code",
   "execution_count": 449,
   "metadata": {},
   "outputs": [],
   "source": [
    "stemmer = nltk.RSLPStemmer()\n",
    "def tokenize_and_stem(text):\n",
    "    # first tokenize by sentence, then by word to ensure that punctuation is caught as it's own token\n",
    "    tokens = [word for sent in nltk.sent_tokenize(text) for word in nltk.word_tokenize(sent)]\n",
    "    stems = [stemmer.stem(t) for t in tokens]\n",
    "    return list(set(stems))"
   ]
  },
  {
   "cell_type": "code",
   "execution_count": 450,
   "metadata": {},
   "outputs": [],
   "source": [
    "stopwords = nltk_stopwords.words('portuguese') + list(punctuation)\n",
    "stem_stopwords = [stemmer.stem(word) for word in stopwords]"
   ]
  },
  {
   "cell_type": "code",
   "execution_count": 470,
   "metadata": {},
   "outputs": [],
   "source": [
    "vectorizer = TfidfVectorizer(stop_words=stopwords,\n",
    "#                              tokenizer=tokenize_and_stem,\n",
    "                             smooth_idf=True,\n",
    "                             analyzer='word',\n",
    "                             token_pattern=r'\\w{2,}',  #vectorize 3-character words or more\n",
    "                             ngram_range=(1, 2),\n",
    "                             max_features=30000)\n",
    "X = vectorizer.fit_transform(comments)"
   ]
  },
  {
   "cell_type": "code",
   "execution_count": 475,
   "metadata": {},
   "outputs": [],
   "source": [
    "distortions = []\n",
    "K = range(2, 20)\n",
    "for k in K:\n",
    "    kmeanModel = KMeans(n_clusters=k)\n",
    "    kmeanModel.fit_transform(X)\n",
    "    distortions.append(sum(np.min(cdist(X.toarray(), kmeanModel.cluster_centers_, 'euclidean'), axis=1)) / X.shape[0])"
   ]
  },
  {
   "cell_type": "code",
   "execution_count": 476,
   "metadata": {},
   "outputs": [
    {
     "name": "stdout",
     "output_type": "stream",
     "text": [
      "12\n"
     ]
    },
    {
     "data": {
      "image/png": "[encoded data removed]",
      "text/plain": [
       "<Figure size 432x288 with 1 Axes>"
      ]
     },
     "metadata": {
      "needs_background": "light"
     },
     "output_type": "display_data"
    }
   ],
   "source": [
    "# find the knee points\n",
    "kn = KneeLocator(K, distortions, curve='convex', direction='decreasing')\n",
    "\n",
    "# plot\n",
    "plt.plot(K, distortions)\n",
    "plt.vlines(x=kn.knee, ymin=0, ymax=1, linestyle='--')\n",
    "plt.title(\"curve='convex', direction='decreasing'\")\n",
    "\n",
    "print(kn.knee)"
   ]
  },
  {
   "cell_type": "code",
   "execution_count": 487,
   "metadata": {},
   "outputs": [
    {
     "name": "stdout",
     "output_type": "stream",
     "text": [
      "Top terms per cluster:\n",
      "Cluster 0:\n",
      " pode\n",
      " pode ser\n",
      " critério\n",
      " ser\n",
      " censura\n",
      " governo\n",
      " decidir\n",
      " governo vai\n",
      " agora governo\n",
      " agora\n",
      "Cluster 1:\n",
      " texto\n",
      " projeto\n",
      " lei\n",
      " impressos\n",
      " projeto referência\n",
      " impressos outdoor\n",
      " outros impressos\n",
      " outdoor\n",
      " mídias sociais\n",
      " mídias\n",
      "Cluster 2:\n",
      " propaganda\n",
      " completo\n",
      " suspender\n",
      " suspender propaganda\n",
      " propaganda completo\n",
      " correto suspender\n",
      " correto\n",
      " vi\n",
      " suspendida\n",
      " ii\n",
      "Cluster 3:\n",
      " autoridades\n",
      " medida\n",
      " concordo medida\n",
      " feminina\n",
      " porque feminina\n",
      " concordo\n",
      " porque\n",
      " tempo\n",
      " dias tempo\n",
      " fim campanha\n",
      "Cluster 4:\n",
      " propagandas\n",
      " produtos consumo\n",
      " consumo\n",
      " produtos\n",
      " ampliar além\n",
      " ampliar\n",
      " além produtos\n",
      " além\n",
      " poderia ampliar\n",
      " poderia\n",
      "Cluster 5:\n",
      " gênero\n",
      " deve\n",
      " proibir discriminação\n",
      " independente gênero\n",
      " independente\n",
      " discriminação independente\n",
      " deve proibir\n",
      " proibir\n",
      " discriminação\n",
      " sofre\n",
      "Cluster 6:\n",
      " vai\n",
      " dono\n",
      " apelo maior\n",
      " malandra vai\n",
      " publicitárias dizer\n",
      " maior\n",
      " têm\n",
      " têm apelo\n",
      " maior vai\n",
      " malandra\n",
      "\n",
      "\n",
      "Prediction\n",
      "[3] O problema não me parece ser a conotação erótica ou sexual em si mesma, pois ela pode ter conexão com o produto (ex. camisinhas). O problema é se a linguagem promove a violência, a exploração ou discriminação da mulher, como dito mais à frente. Somente assim justificaria alguma penalidade.\n",
      "[3] Acho que deve ter um prazo mínimo! E se só suspenderem por 1 dia? Quem divulgou precisa realmente ser penalizado pra aprender que fez uma ❤! Acho justo que fiquem sem poder divulgar o produto por um bom tempo!\n",
      "[3] Concordo muito com essa medida!\n",
      "[2] Entendi no Inciso II que é pra suspender qualquer outra propaganda do produto, mas aí aqui no VI a propaganda em si que causa a infração é suspendida proporcionalmente ao tempo que foi originalmente transmitida? Porque não é suspendida por completo? Me parece que há margem para dubiedade quando se compara o II com o VI.\n",
      "[3] Quem seriam essas autoridades?\n",
      "[1] Senti falta no texto do projeto de referência a mídias sociais... e outros, como impressos, outdoor...\n",
      "[2] O mais correto não seria suspender a propaganda por completo?\n",
      "[5] A faixa de valores deve estar submetida a algum índice de reajuste anual para repor a inflação e mantê-lo proporcional.\n",
      "[0] Esse critério de multa é ruim. Pode ser muito para uns e irrelevante para outros. Talvez um critério atrelado ao valor investido na propaganda seja mais justo.\n",
      "[3] 30 dias é muito tempo, podendo até chegar ao fim da campanha publicitária.\n",
      "[6] Ta aí o ex.... Quem é o infrator que vai receber a tal advertência? O publicitário? O dono da agência? O dono da empresa/sócios?\n",
      "[4] Por que só propagandas de produtos de consumo? Propagandas de serviços também podem ser misóginas.\n",
      "[0] Concordo com o intuito do artigo e gostaria de frisar mais ainda a necessidade de que haja EVIDÊNCIA da exploração, violência ou discriminação contra a mulher. É importante tomar cuidado com a liberdade que o governo tem de proibir ou não determinada manifestação de expressão, pois pode configurar censura! Espero que a lei seja bem clara sem margem para dubiedade a ser explorada por advogados.\n",
      "[6] Campanhas publicitárias? O que dizer dos video-clips de funk, por exemplo, que têm um apelo muito maior? Vai, malandra, vai!\n",
      "[0] Agora o governo vai decidir o que pode ou não ser publicado? Censura, burocracia...\n",
      "[3] Porque só feminina?\n",
      "[5] Acho importante explicitar o gênero feminino, pois hoje é esse gênero que sofre com esse tipo de propaganda\n",
      "[5] Deve proibir a discriminação independente do gênero.\n",
      "[1] Acho o texto muito confuso, mesmo para um projeto de lei... hahahaa Quem é o \"infrator\", citado tantas vezes? A empresa que contratar? A agência que preparar? O veículo que divulgar? Não fica nada claro isso. O problema, na minha avaliação, começa na primeira frase... \"as campanhas publicitárias ficam proibidas de exibir\"...??? Na verdade, o sujeito deveria vir claro aí já no início do projeto. Exemplo prático de texto de lei similar: https://gov-rj.jusbrasil.com.br/legislacao/535364538/lei-7835-18-rio-de-janeiro-rj\n",
      "[4] Muito restrito. Poderia ampliar para além de produtos de consumo.\n"
     ]
    }
   ],
   "source": [
    "true_k = kn.knee\n",
    "model = KMeans(n_clusters=true_k, init='k-means++', max_iter=100, n_init=1)\n",
    "model.fit_transform(X)\n",
    "\n",
    "print(\"Top terms per cluster:\")\n",
    "order_centroids = model.cluster_centers_.argsort()[:, ::-1]\n",
    "terms = vectorizer.get_feature_names()\n",
    "for i in range(true_k):\n",
    "    print(\"Cluster %d:\" % i),\n",
    "    for ind in order_centroids[i, :10]:\n",
    "        print(' %s' % terms[ind]),\n",
    "    print\n",
    "\n",
    "print(\"\\n\")\n",
    "print(\"Prediction\")\n",
    "for i in comments:\n",
    "    Y = vectorizer.transform([i])\n",
    "    prediction = model.predict(Y)\n",
    "    print(prediction, i)"
   ]
  }
 ],
 "metadata": {
  "kernelspec": {
   "display_name": "Python 3",
   "language": "python",
   "name": "python3"
  },
  "language_info": {
   "codemirror_mode": {
    "name": "ipython",
    "version": 3
   },
   "file_extension": ".py",
   "mimetype": "text/x-python",
   "name": "python",
   "nbconvert_exporter": "python",
   "pygments_lexer": "ipython3",
   "version": "3.7.0"
  }
 },
 "nbformat": 4,
 "nbformat_minor": 2
}
