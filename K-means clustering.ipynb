{
 "cells": [
  {
   "cell_type": "code",
   "execution_count": 253,
   "metadata": {},
   "outputs": [],
   "source": [
    "from sklearn.feature_extraction.text import TfidfVectorizer\n",
    "from sklearn.cluster import KMeans\n",
    "from sklearn.metrics import adjusted_rand_score\n",
    "import requests\n",
    "from nltk.corpus import stopwords as nltk_stopwords\n",
    "from string import punctuation\n",
    "from kneed.knee_locator import KneeLocator\n",
    "from matplotlib import pyplot as plt\n",
    "import nltk\n",
    "import re\n",
    "\n",
    "\n",
    "# Endereço da API dos comentários do wikilegis\n",
    "BABEL_API_URL = 'https://babel.labhackercd.leg.br/api/v1/manifestations?manifestation_type__id=3'\n",
    "\n",
    "# Pegando comentários da API do Babel\n",
    "data = requests.get(BABEL_API_URL).json()['results']\n",
    "for i in range(2, 11):\n",
    "    data += requests.get(BABEL_API_URL + '&page=%s' % i).json()['results']\n",
    "\n",
    "comments = [comment['content'] for comment in data]\n",
    "\n",
    "stopwords = nltk_stopwords.words('portuguese') + list(punctuation)"
   ]
  },
  {
   "cell_type": "code",
   "execution_count": 242,
   "metadata": {},
   "outputs": [],
   "source": [
    "stemmer = nltk.RSLPStemmer()\n",
    "def tokenize_and_stem(text):\n",
    "    # first tokenize by sentence, then by word to ensure that punctuation is caught as it's own token\n",
    "    tokens = [word for sent in nltk.sent_tokenize(text) for word in nltk.word_tokenize(sent)]\n",
    "    stems = [stemmer.stem(t) for t in tokens]\n",
    "    return list(set(stems))"
   ]
  },
  {
   "cell_type": "code",
   "execution_count": 255,
   "metadata": {},
   "outputs": [],
   "source": [
    "stopwords = nltk_stopwords.words('portuguese') + list(punctuation)\n",
    "stem_stopwords = [stemmer.stem(word) for word in stopwords]"
   ]
  },
  {
   "cell_type": "code",
   "execution_count": 293,
   "metadata": {},
   "outputs": [
    {
     "name": "stderr",
     "output_type": "stream",
     "text": [
      "/home/erivanio/anaconda3/envs/jupyenv/lib/python3.7/site-packages/sklearn/feature_extraction/text.py:286: UserWarning: Your stop_words may be inconsistent with your preprocessing. Tokenizing the stop words generated tokens ['``', 'es', 'estivés', 'fos', 'fôs', 'houvés', 'is', 'nos', 'tivés'] not in stop_words.\n",
      "  sorted(inconsistent))\n"
     ]
    }
   ],
   "source": [
    "vectorizer = TfidfVectorizer(stop_words=stem_stopwords, tokenizer=tokenize_and_stem, analyzer='word',\n",
    "                             ngram_range=(1, 3), max_df=0.7, min_df=0.2)\n",
    "\n",
    "X = vectorizer.fit_transform(comments)"
   ]
  },
  {
   "cell_type": "code",
   "execution_count": 294,
   "metadata": {},
   "outputs": [],
   "source": [
    "distortions = []\n",
    "X = vectorizer.fit_transform(comments)\n",
    "K = range(2, 20)\n",
    "for k in K:\n",
    "    kmeanModel = KMeans(n_clusters=k)\n",
    "    kmeanModel.fit(X)\n",
    "    distortions.append(sum(np.min(cdist(X.toarray(), kmeanModel.cluster_centers_, 'euclidean'), axis=1)) / X.shape[0])"
   ]
  },
  {
   "cell_type": "code",
   "execution_count": 295,
   "metadata": {},
   "outputs": [
    {
     "name": "stdout",
     "output_type": "stream",
     "text": [
      "8\n"
     ]
    },
    {
     "data": {
      "image/png": "[encoded data removed]",
      "text/plain": [
       "<Figure size 432x288 with 1 Axes>"
      ]
     },
     "metadata": {
      "needs_background": "light"
     },
     "output_type": "display_data"
    }
   ],
   "source": [
    "# find the knee points\n",
    "kn = KneeLocator(K, distortions, curve='convex', direction='decreasing')\n",
    "\n",
    "# plot\n",
    "plt.plot(K, distortions)\n",
    "plt.vlines(x=kn.knee, ymin=0, ymax=1, linestyle='--')\n",
    "plt.title(\"curve='convex', direction='decreasing'\")\n",
    "\n",
    "print(kn.knee)"
   ]
  },
  {
   "cell_type": "code",
   "execution_count": 292,
   "metadata": {},
   "outputs": [
    {
     "name": "stdout",
     "output_type": "stream",
     "text": [
      "Top terms per cluster:\n",
      "Cluster 0:\n",
      " dev\n",
      " prev\n",
      " exclus\n",
      " incis\n",
      " dest\n",
      " suger\n",
      " artig\n",
      " art\n",
      " parágraf\n",
      " dad\n",
      "Cluster 1:\n",
      " parágraf\n",
      " pod\n",
      " apen\n",
      " dest\n",
      " lei\n",
      " red\n",
      " compet\n",
      " estabelec\n",
      " art\n",
      " exclus\n",
      "Cluster 2:\n",
      " ativ\n",
      " órg\n",
      " ii\n",
      " lei\n",
      " determin\n",
      " públic\n",
      " i\n",
      " pod\n",
      " aind\n",
      " artig\n",
      "Cluster 3:\n",
      " é\n",
      " empr\n",
      " acredit\n",
      " necess\n",
      " pod\n",
      " tod\n",
      " precis\n",
      " dad\n",
      " defin\n",
      " nest\n",
      "Cluster 4:\n",
      " dad trat\n",
      " trat\n",
      " dad\n",
      " pessoal\n",
      " suger\n",
      " text\n",
      " dev\n",
      " titul\n",
      " consent\n",
      " é\n",
      "Cluster 5:\n",
      " text\n",
      " suger\n",
      " titul\n",
      " i\n",
      " trat\n",
      " inform\n",
      " consent\n",
      " dev\n",
      " ii\n",
      " art\n",
      "Cluster 6:\n",
      " direit\n",
      " dev\n",
      " titul\n",
      " proteç\n",
      " é\n",
      " vist\n",
      " ”\n",
      " “\n",
      " dad\n",
      " pod\n",
      "Cluster 7:\n",
      " incis\n",
      " públic\n",
      " suger\n",
      " geral\n",
      " dad\n",
      " trat\n",
      " titul\n",
      " inform\n",
      " dev\n",
      " ativ\n",
      "\n",
      "\n",
      "Prediction\n",
      "[1]\n",
      "[6]\n"
     ]
    }
   ],
   "source": [
    "true_k = 8\n",
    "model = KMeans(n_clusters=true_k, init='k-means++', max_iter=100, n_init=1)\n",
    "model.fit(X)\n",
    "\n",
    "print(\"Top terms per cluster:\")\n",
    "order_centroids = model.cluster_centers_.argsort()[:, ::-1]\n",
    "terms = vectorizer.get_feature_names()\n",
    "for i in range(true_k):\n",
    "    print(\"Cluster %d:\" % i),\n",
    "    for ind in order_centroids[i, :10]:\n",
    "        print(' %s' % terms[ind]),\n",
    "    print\n",
    "\n",
    "print(\"\\n\")\n",
    "print(\"Prediction\")\n",
    "\n",
    "Y = vectorizer.transform([\"Agora entendi, joseivanaquino. Inviável para 2017 pelo tempo de adaptação...\"])\n",
    "prediction = model.predict(Y)\n",
    "print(prediction)\n",
    "\n",
    "Y = vectorizer.transform([\"Todas as disciplinas devem continuar obrigatórias e ainda ser adicionado o estudo da cidadania, para que os alunos estudem a constituição, leis, direitos e deveres. E política, para obterem uma visão mais crítica sobre os governantes, em quem votar, como a política funciona, como entrar nos portais do governo como este para participarem mais da democracia.\"])\n",
    "prediction = model.predict(Y)\n",
    "print(prediction)"
   ]
  },
  {
   "cell_type": "code",
   "execution_count": null,
   "metadata": {},
   "outputs": [],
   "source": []
  }
 ],
 "metadata": {
  "kernelspec": {
   "display_name": "Python 3",
   "language": "python",
   "name": "python3"
  },
  "language_info": {
   "codemirror_mode": {
    "name": "ipython",
    "version": 3
   },
   "file_extension": ".py",
   "mimetype": "text/x-python",
   "name": "python",
   "nbconvert_exporter": "python",
   "pygments_lexer": "ipython3",
   "version": "3.7.0"
  }
 },
 "nbformat": 4,
 "nbformat_minor": 2
}
